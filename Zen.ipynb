{
 "cells": [
  {
   "cell_type": "markdown",
   "metadata": {},
   "source": [
    "# Пишите код так, как будто сопровождать его будет склонный к насилию психопат, который знает, где вы живёте"
   ]
  },
  {
   "cell_type": "code",
   "execution_count": 1,
   "metadata": {
    "collapsed": false
   },
   "outputs": [
    {
     "name": "stdout",
     "output_type": "stream",
     "text": [
      "The Zen of Python, by Tim Peters\n",
      "\n",
      "Beautiful is better than ugly.\n",
      "Explicit is better than implicit.\n",
      "Simple is better than complex.\n",
      "Complex is better than complicated.\n",
      "Flat is better than nested.\n",
      "Sparse is better than dense.\n",
      "Readability counts.\n",
      "Special cases aren't special enough to break the rules.\n",
      "Although practicality beats purity.\n",
      "Errors should never pass silently.\n",
      "Unless explicitly silenced.\n",
      "In the face of ambiguity, refuse the temptation to guess.\n",
      "There should be one-- and preferably only one --obvious way to do it.\n",
      "Although that way may not be obvious at first unless you're Dutch.\n",
      "Now is better than never.\n",
      "Although never is often better than *right* now.\n",
      "If the implementation is hard to explain, it's a bad idea.\n",
      "If the implementation is easy to explain, it may be a good idea.\n",
      "Namespaces are one honking great idea -- let's do more of those!\n"
     ]
    }
   ],
   "source": [
    "import this"
   ]
  },
  {
   "cell_type": "markdown",
   "metadata": {},
   "source": [
    "# Beautiful is better than ugly."
   ]
  },
  {
   "cell_type": "code",
   "execution_count": 3,
   "metadata": {
    "collapsed": true
   },
   "outputs": [],
   "source": [
    "halve_evens_only = lambda nums: map(lambda i: i/2, filter(lambda i: not i%2, nums))\n",
    "\n",
    "def halve_evens_only(nums):\n",
    "    return [i/2 for i in nums if not i % 2]"
   ]
  },
  {
   "cell_type": "markdown",
   "metadata": {},
   "source": [
    "# Explicit is better than implicit (Явное лучше неявного)."
   ]
  },
  {
   "cell_type": "code",
   "execution_count": 3,
   "metadata": {
    "collapsed": false
   },
   "outputs": [
    {
     "ename": "ImportError",
     "evalue": "No module named 'sympy'",
     "output_type": "error",
     "traceback": [
      "\u001b[0;31m---------------------------------------------------------------------------\u001b[0m",
      "\u001b[0;31mImportError\u001b[0m                               Traceback (most recent call last)",
      "\u001b[0;32m<ipython-input-3-9c2b9f328fd0>\u001b[0m in \u001b[0;36m<module>\u001b[0;34m()\u001b[0m\n\u001b[1;32m      1\u001b[0m \u001b[0;32mfrom\u001b[0m \u001b[0mmath\u001b[0m \u001b[0;32mimport\u001b[0m \u001b[0mpi\u001b[0m\u001b[0;34m\u001b[0m\u001b[0m\n\u001b[1;32m      2\u001b[0m \u001b[0;32mfrom\u001b[0m \u001b[0mmath\u001b[0m \u001b[0;32mimport\u001b[0m \u001b[0;34m*\u001b[0m\u001b[0;34m\u001b[0m\u001b[0m\n\u001b[0;32m----> 3\u001b[0;31m \u001b[0;32mfrom\u001b[0m \u001b[0msympy\u001b[0m \u001b[0;32mimport\u001b[0m \u001b[0;34m*\u001b[0m\u001b[0;34m\u001b[0m\u001b[0m\n\u001b[0m\u001b[1;32m      4\u001b[0m \u001b[0mpi\u001b[0m\u001b[0;34m\u001b[0m\u001b[0m\n",
      "\u001b[0;31mImportError\u001b[0m: No module named 'sympy'"
     ]
    }
   ],
   "source": [
    "from math import pi\n",
    "from math import *\n",
    "from sympy import *\n",
    "pi"
   ]
  },
  {
   "cell_type": "markdown",
   "metadata": {},
   "source": [
    "# Simple is better than complex (Простое лучше сложного)."
   ]
  },
  {
   "cell_type": "code",
   "execution_count": 1,
   "metadata": {
    "collapsed": false
   },
   "outputs": [],
   "source": [
    "measurements = [\n",
    "    {'weight': 392.3, 'color': 'purple', 'temperature': 33.4},\n",
    "    {'weight': 34.0, 'color': 'green', 'temperature': -3.1},\n",
    "    ]\n",
    "\n",
    "def store(measurements):\n",
    "    import sqlalchemy\n",
    "    import sqlalchemy.types as sqltypes\n",
    "    \n",
    "    db = sqlalchemy.create_engine('sqlite:///measurements.db')\n",
    "    db.echo = False\n",
    "    metadata = sqlalchemy.MetaData(db)\n",
    "    table = sqlalchemy.Table('measurements', metadata,\n",
    "        sqlalchemy.Column('id', sqltypes.Integer, primary_key=True),\n",
    "        sqlalchemy.Column('weight', sqltypes.Float),\n",
    "        sqlalchemy.Column('temperature', sqltypes.Float),\n",
    "        sqlalchemy.Column('color', sqltypes.String(32)),\n",
    "        )\n",
    "    table.create(checkfirst=True)\n",
    "    \n",
    "    for measurement in measurements:\n",
    "        i = table.insert()\n",
    "        i.execute(**measurement)\n",
    "# ***********************************************************************************************************\n",
    "\n",
    "def store(measurements):\n",
    "    import json\n",
    "    with open('measurements.json', 'w') as f:\n",
    "        f.write(json.dumps(measurements))"
   ]
  },
  {
   "cell_type": "markdown",
   "metadata": {},
   "source": [
    "# Complex is better than complicated (Сложное лучше запутанного)."
   ]
  },
  {
   "cell_type": "code",
   "execution_count": 4,
   "metadata": {
    "collapsed": false
   },
   "outputs": [
    {
     "name": "stdout",
     "output_type": "stream",
     "text": [
      "String to iterate over.\n",
      "String to iterate over.\n"
     ]
    }
   ],
   "source": [
    "s = 'String to iterate over.\\n'\n",
    "\n",
    "for c in s:\n",
    "    print(c, end='')\n",
    "    \n",
    "not_the_end = True\n",
    "s_iterator = iter(s)\n",
    "while not_the_end:\n",
    "    try:\n",
    "        print(next(s_iterator), end='')\n",
    "    except StopIteration:\n",
    "        not_the_end = False"
   ]
  },
  {
   "cell_type": "markdown",
   "metadata": {},
   "source": [
    "# Flat is better than nested (Одноуровневое лучше вложенного).\n"
   ]
  },
  {
   "cell_type": "code",
   "execution_count": 5,
   "metadata": {
    "collapsed": true
   },
   "outputs": [],
   "source": [
    "def identify(animal):\n",
    "    if animal.is_vertebrate():\n",
    "        noise = animal.poke()\n",
    "        if noise == 'moo':\n",
    "            return 'cow'\n",
    "        elif noise == 'woof':\n",
    "            return 'dog'\n",
    "    else:\n",
    "        if animal.is_multicellular():\n",
    "            return 'Bug!'\n",
    "        else:\n",
    "            if animal.is_fungus():\n",
    "                return 'Yeast'\n",
    "            else:\n",
    "                return 'Amoeba'\n",
    "# ***********************************************************************************************************\n",
    "\n",
    "def identify(animal):\n",
    "    if animal.is_vertebrate():\n",
    "        return identify_vertebrate()\n",
    "    else:\n",
    "        return identify_invertebrate()\n",
    "\n",
    "def identify_vertebrate(animal):\n",
    "    noise = animal.poke()\n",
    "    if noise == 'moo':\n",
    "        return 'cow'\n",
    "    elif noise == 'woof':\n",
    "        return 'dog'\n",
    "\n",
    "def identify_invertebrate(animal):\n",
    "    if animal.is_multicellular():\n",
    "        return 'Bug!'\n",
    "    else:\n",
    "        if animal.is_fungus():\n",
    "            return 'Yeast'\n",
    "        else:\n",
    "            return 'Amoeba'"
   ]
  },
  {
   "cell_type": "markdown",
   "metadata": {},
   "source": [
    "# Sparse is better than dense (Распределенное лучше нагроможденного)."
   ]
  },
  {
   "cell_type": "code",
   "execution_count": 6,
   "metadata": {
    "collapsed": true
   },
   "outputs": [],
   "source": [
    "class A(object):\n",
    "    pass\n",
    "class B(object):\n",
    "    def __init__(self):\n",
    "        super(B, self).__init__()\n",
    "    def __str__(self):\n",
    "        return 'String representation'\n",
    "# ***********************************************************************************************************\n",
    "\n",
    "\n",
    "class A(object):\n",
    "    pass\n",
    "\n",
    "\n",
    "class B(object):\n",
    "    \"\"\"This class does smth\"\"\"\n",
    "    def __init__(self):\n",
    "        super(B, self).__init__()\n",
    "\n",
    "    def __str__(self):\n",
    "        return 'String representation'"
   ]
  },
  {
   "cell_type": "markdown",
   "metadata": {},
   "source": [
    "# Readability counts (Читаемость имеет значение)."
   ]
  },
  {
   "cell_type": "code",
   "execution_count": 21,
   "metadata": {
    "collapsed": false
   },
   "outputs": [],
   "source": [
    "def factorial(n):\n",
    "    \"\"\"\n",
    "    Return the factorial of n, an exact integer >= 0.\n",
    "\n",
    "    >>> [factorial(n) for n in range(6)]\n",
    "    [1, 1, 2, 6, 24, 120]\n",
    "\n",
    "    >>> factorial(30)\n",
    "    265252859812191058636308480000000\n",
    "\n",
    "    >>> factorial(-1)\n",
    "    Traceback (most recent call last):\n",
    "        ...\n",
    "    ValueError: n must be >= 0\n",
    "    \"\"\"\n",
    "    pass\n",
    "\n",
    "if __name__ == '__main__' and '--test' in sys.argv:\n",
    "    import doctest\n",
    "    doctest.testmod()\n",
    "\n",
    "\n",
    "import unittest\n",
    "\n",
    "def factorial(n):\n",
    "    if n in [0, 1]:\n",
    "        return 1\n",
    "    return n * factorial(n - 1)\n",
    "\n",
    "class FactorialTests(unittest.TestCase):\n",
    "    def test_ints(self):\n",
    "        self.assertEqual(\n",
    "            [factorial(n) for n in range(6)], [1, 1, 2, 6, 24, 120])\n",
    "\n",
    "    def test_long(self):\n",
    "        self.assertEqual(\n",
    "            factorial(30), 265252859812191058636308480000000)\n",
    "\n",
    "    def test_negative_error(self):\n",
    "        with self.assertRaises(ValueError):\n",
    "            factorial(-1)\n",
    "\n",
    "if __name__ == '__main__' and '--test' in sys.argv:\n",
    "    unittest.main()"
   ]
  },
  {
   "cell_type": "markdown",
   "metadata": {
    "collapsed": false
   },
   "source": [
    "# Errors should never pass silently\n",
    "# Unless explicitly silenced."
   ]
  },
  {
   "cell_type": "code",
   "execution_count": 6,
   "metadata": {
    "collapsed": false
   },
   "outputs": [],
   "source": [
    "try:\n",
    "    import json\n",
    "except ImportError:\n",
    "    try:\n",
    "        import simplejson as json\n",
    "    except:\n",
    "        print('Unable to find json module!')\n",
    "        raise"
   ]
  },
  {
   "cell_type": "code",
   "execution_count": 4,
   "metadata": {
    "collapsed": false
   },
   "outputs": [
    {
     "ename": "ImportError",
     "evalue": "No module named 'django'",
     "output_type": "error",
     "traceback": [
      "\u001b[0;31m---------------------------------------------------------------------------\u001b[0m",
      "\u001b[0;31mImportError\u001b[0m                               Traceback (most recent call last)",
      "\u001b[0;32m<ipython-input-4-5a393670a2a0>\u001b[0m in \u001b[0;36m<module>\u001b[0;34m()\u001b[0m\n\u001b[0;32m----> 1\u001b[0;31m \u001b[0;32mfrom\u001b[0m \u001b[0mdjango\u001b[0m\u001b[0;34m.\u001b[0m\u001b[0mutils\u001b[0m\u001b[0;34m.\u001b[0m\u001b[0mtranslation\u001b[0m \u001b[0;32mimport\u001b[0m \u001b[0mugettext\u001b[0m \u001b[0;32mas\u001b[0m \u001b[0m_\u001b[0m\u001b[0;34m\u001b[0m\u001b[0m\n\u001b[0m\u001b[1;32m      2\u001b[0m \u001b[0;32mfrom\u001b[0m \u001b[0mdjango\u001b[0m\u001b[0;34m.\u001b[0m\u001b[0mutils\u001b[0m\u001b[0;34m.\u001b[0m\u001b[0mencoding\u001b[0m \u001b[0;32mimport\u001b[0m \u001b[0mforce_text\u001b[0m\u001b[0;34m\u001b[0m\u001b[0m\n\u001b[1;32m      3\u001b[0m \u001b[0mstr_to_translate\u001b[0m \u001b[0;34m=\u001b[0m \u001b[0m_\u001b[0m\u001b[0;34m(\u001b[0m\u001b[0;34m\"Should be translated (maybe) later\"\u001b[0m\u001b[0;34m)\u001b[0m\u001b[0;34m\u001b[0m\u001b[0m\n\u001b[1;32m      4\u001b[0m \u001b[0mtranslated\u001b[0m \u001b[0;34m=\u001b[0m \u001b[0mforce_text\u001b[0m\u001b[0;34m(\u001b[0m\u001b[0mstr_to_translate\u001b[0m\u001b[0;34m)\u001b[0m\u001b[0;34m\u001b[0m\u001b[0m\n",
      "\u001b[0;31mImportError\u001b[0m: No module named 'django'"
     ]
    }
   ],
   "source": [
    "from django.utils.translation import ugettext as _\n",
    "from django.utils.encoding import force_text\n",
    "str_to_translate = _(\"Should be translated (maybe) later\")\n",
    "translated = force_text(str_to_translate)"
   ]
  },
  {
   "cell_type": "code",
   "execution_count": 6,
   "metadata": {
    "collapsed": false
   },
   "outputs": [],
   "source": [
    "from math import pi as math_pi"
   ]
  },
  {
   "cell_type": "code",
   "execution_count": 7,
   "metadata": {
    "collapsed": true
   },
   "outputs": [],
   "source": [
    "import numpy as np\n",
    "from numpy import *"
   ]
  },
  {
   "cell_type": "code",
   "execution_count": 18,
   "metadata": {
    "collapsed": true
   },
   "outputs": [],
   "source": [
    "nums = [1, 2, 3]"
   ]
  },
  {
   "cell_type": "code",
   "execution_count": 14,
   "metadata": {
    "collapsed": true
   },
   "outputs": [],
   "source": [
    "del list"
   ]
  },
  {
   "cell_type": "code",
   "execution_count": 17,
   "metadata": {
    "collapsed": false
   },
   "outputs": [
    {
     "data": {
      "text/plain": [
       "[0, 1, 2, 3]"
      ]
     },
     "execution_count": 17,
     "metadata": {},
     "output_type": "execute_result"
    }
   ],
   "source": [
    "list(range(4))"
   ]
  },
  {
   "cell_type": "code",
   "execution_count": 19,
   "metadata": {
    "collapsed": false
   },
   "outputs": [
    {
     "data": {
      "text/plain": [
       "3"
      ]
     },
     "execution_count": 19,
     "metadata": {},
     "output_type": "execute_result"
    }
   ],
   "source": [
    "max(nums)"
   ]
  },
  {
   "cell_type": "code",
   "execution_count": 20,
   "metadata": {
    "collapsed": true
   },
   "outputs": [],
   "source": [
    "def factorial(n):\n",
    "    \"\"\"\n",
    "    Calculates factorial\n",
    "    :param n: int Number to count factorial\n",
    "    :return: Factorial of n\n",
    "    :rtype: int\n",
    "    \"\"\"\n",
    "    if n in [0, 1]:\n",
    "        return 1\n",
    "    else:\n",
    "        return n * factorial(n-1)"
   ]
  },
  {
   "cell_type": "code",
   "execution_count": 21,
   "metadata": {
    "collapsed": false
   },
   "outputs": [
    {
     "ename": "NameError",
     "evalue": "name 'models' is not defined",
     "output_type": "error",
     "traceback": [
      "\u001b[0;31m---------------------------------------------------------------------------\u001b[0m",
      "\u001b[0;31mNameError\u001b[0m                                 Traceback (most recent call last)",
      "\u001b[0;32m<ipython-input-21-38f961165890>\u001b[0m in \u001b[0;36m<module>\u001b[0;34m()\u001b[0m\n\u001b[0;32m----> 1\u001b[0;31m \u001b[0;32mclass\u001b[0m \u001b[0mMyCity\u001b[0m\u001b[0;34m(\u001b[0m\u001b[0mmodels\u001b[0m\u001b[0;34m.\u001b[0m\u001b[0mModel\u001b[0m\u001b[0;34m)\u001b[0m\u001b[0;34m:\u001b[0m\u001b[0;34m\u001b[0m\u001b[0m\n\u001b[0m\u001b[1;32m      2\u001b[0m     \u001b[0;32mclass\u001b[0m \u001b[0mMeta\u001b[0m\u001b[0;34m:\u001b[0m\u001b[0;34m\u001b[0m\u001b[0m\n\u001b[1;32m      3\u001b[0m         \u001b[0mverbose_name_plural\u001b[0m \u001b[0;34m=\u001b[0m \u001b[0m_\u001b[0m\u001b[0;34m(\u001b[0m\u001b[0;34m'Cities'\u001b[0m\u001b[0;34m)\u001b[0m\u001b[0;34m\u001b[0m\u001b[0m\n",
      "\u001b[0;31mNameError\u001b[0m: name 'models' is not defined"
     ]
    }
   ],
   "source": [
    "class MyCity(models.Model):\n",
    "    class Meta:\n",
    "        verbose_name_plural = _('Cities')"
   ]
  },
  {
   "cell_type": "code",
   "execution_count": 23,
   "metadata": {
    "collapsed": false
   },
   "outputs": [
    {
     "name": "stdout",
     "output_type": "stream",
     "text": [
      "1\n"
     ]
    }
   ],
   "source": [
    "def outer():\n",
    "    a = 1\n",
    "    def inner():\n",
    "        print(a)\n",
    "    inner()\n",
    "outer()"
   ]
  },
  {
   "cell_type": "code",
   "execution_count": 29,
   "metadata": {
    "collapsed": false
   },
   "outputs": [
    {
     "name": "stdout",
     "output_type": "stream",
     "text": [
      "1\n",
      "2\n"
     ]
    }
   ],
   "source": [
    "def outer():\n",
    "    a = 1\n",
    "    def inner():\n",
    "        nonlocal a\n",
    "        print(a)\n",
    "        a += 1\n",
    "        print(a)\n",
    "    inner()\n",
    "outer()"
   ]
  },
  {
   "cell_type": "code",
   "execution_count": null,
   "metadata": {
    "collapsed": true
   },
   "outputs": [],
   "source": []
  }
 ],
 "metadata": {
  "kernelspec": {
   "display_name": "Python 3",
   "language": "python",
   "name": "python3"
  },
  "language_info": {
   "codemirror_mode": {
    "name": "ipython",
    "version": 3
   },
   "file_extension": ".py",
   "mimetype": "text/x-python",
   "name": "python",
   "nbconvert_exporter": "python",
   "pygments_lexer": "ipython3",
   "version": "3.5.2"
  }
 },
 "nbformat": 4,
 "nbformat_minor": 2
}
