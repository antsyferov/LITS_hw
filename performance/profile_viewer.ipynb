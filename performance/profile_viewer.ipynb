{
 "cells": [
  {
   "cell_type": "code",
   "execution_count": 1,
   "metadata": {
    "collapsed": true
   },
   "outputs": [],
   "source": [
    "import pstats"
   ]
  },
  {
   "cell_type": "code",
   "execution_count": 2,
   "metadata": {
    "collapsed": true
   },
   "outputs": [],
   "source": [
    "profiler = pstats.Stats('perf1.prof')"
   ]
  },
  {
   "cell_type": "code",
   "execution_count": 3,
   "metadata": {
    "collapsed": false
   },
   "outputs": [
    {
     "data": {
      "text/plain": [
       "<pstats.Stats at 0x7f7e380d99b0>"
      ]
     },
     "execution_count": 3,
     "metadata": {},
     "output_type": "execute_result"
    }
   ],
   "source": [
    "profiler.sort_stats('time')"
   ]
  },
  {
   "cell_type": "code",
   "execution_count": 4,
   "metadata": {
    "collapsed": false
   },
   "outputs": [
    {
     "name": "stdout",
     "output_type": "stream",
     "text": [
      "Mon Feb 27 21:19:23 2017    perf1.prof\n",
      "\n",
      "         5802944 function calls in 5.589 seconds\n",
      "\n",
      "   Ordered by: internal time\n",
      "\n",
      "   ncalls  tottime  percall  cumtime  percall filename:lineno(function)\n",
      "   100000    4.353    0.000    4.772    0.000 performance4.py:8(<listcomp>)\n",
      "  5496977    0.418    0.000    0.418    0.000 {built-in method builtins.ord}\n",
      "   100000    0.303    0.000    0.303    0.000 {method 'join' of 'str' objects}\n",
      "        1    0.246    0.246    5.589    5.589 performance4.py:1(<module>)\n",
      "   100000    0.230    0.000    5.305    0.000 performance4.py:4(parser)\n",
      "     2978    0.024    0.000    0.024    0.000 {built-in method _codecs.utf_8_decode}\n",
      "     2978    0.013    0.000    0.038    0.000 /home/user/LITS_hw/venv/lib/python3.5/codecs.py:318(decode)\n",
      "        1    0.000    0.000    0.000    0.000 {built-in method io.open}\n",
      "        1    0.000    0.000    0.000    0.000 {built-in method builtins.print}\n",
      "        1    0.000    0.000    0.000    0.000 {built-in method _locale.nl_langinfo}\n",
      "        1    0.000    0.000    0.000    0.000 /home/user/LITS_hw/venv/lib/python3.5/_bootlocale.py:23(getpreferredencoding)\n",
      "        1    0.000    0.000    5.589    5.589 {built-in method builtins.exec}\n",
      "        1    0.000    0.000    0.000    0.000 /home/user/LITS_hw/venv/lib/python3.5/codecs.py:308(__init__)\n",
      "        2    0.000    0.000    0.000    0.000 {built-in method time.time}\n",
      "        1    0.000    0.000    0.000    0.000 /home/user/LITS_hw/venv/lib/python3.5/codecs.py:259(__init__)\n",
      "        1    0.000    0.000    0.000    0.000 {method 'disable' of '_lsprof.Profiler' objects}\n",
      "\n",
      "\n"
     ]
    },
    {
     "data": {
      "text/plain": [
       "<pstats.Stats at 0x7f7e380d99b0>"
      ]
     },
     "execution_count": 4,
     "metadata": {},
     "output_type": "execute_result"
    }
   ],
   "source": [
    "profiler.print_stats()"
   ]
  }
 ],
 "metadata": {
  "kernelspec": {
   "display_name": "Python 3",
   "language": "python",
   "name": "python3"
  },
  "language_info": {
   "codemirror_mode": {
    "name": "ipython",
    "version": 3
   },
   "file_extension": ".py",
   "mimetype": "text/x-python",
   "name": "python",
   "nbconvert_exporter": "python",
   "pygments_lexer": "ipython3",
   "version": "3.5.2"
  }
 },
 "nbformat": 4,
 "nbformat_minor": 2
}
