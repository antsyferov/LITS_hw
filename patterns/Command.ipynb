{
 "cells": [
  {
   "cell_type": "code",
   "execution_count": 1,
   "metadata": {
    "collapsed": true
   },
   "outputs": [],
   "source": [
    "class Command:\n",
    "    \"\"\"The Command Abstract class\"\"\"\n",
    "    def __init__(self):\n",
    "        pass\n",
    "        #Make changes\n",
    "    def execute(self):\n",
    "        #OVERRIDE\n",
    "        raise NotImplementedError\n",
    "\n",
    "class FlipUpCommand(Command):\n",
    "    \"\"\"The Command class for turning on the light\"\"\"\n",
    "    def __init__(self, light):\n",
    "        self.__light = light\n",
    "    def execute(self):\n",
    "        self.__light.turnOn()\n"
   ]
  },
  {
   "cell_type": "code",
   "execution_count": 7,
   "metadata": {
    "collapsed": true
   },
   "outputs": [],
   "source": [
    "import os\n",
    "\n",
    "class MoveFileCommand(object):\n",
    "    def __init__(self, src, dest):\n",
    "        self.src = src\n",
    "        self.dest = dest\n",
    "        self()\n",
    "    def __call__(self):\n",
    "        os.rename(self.src, self.dest)\n",
    "    def undo(self):\n",
    "        os.rename(self.dest, self.src)"
   ]
  },
  {
   "cell_type": "code",
   "execution_count": 8,
   "metadata": {
    "collapsed": true
   },
   "outputs": [],
   "source": [
    "undo_stack = []"
   ]
  },
  {
   "cell_type": "code",
   "execution_count": 9,
   "metadata": {
    "collapsed": true
   },
   "outputs": [],
   "source": [
    "undo_stack.append(MoveFileCommand('Iterator.ipynb', 'bar.txt'))\n"
   ]
  },
  {
   "cell_type": "code",
   "execution_count": 10,
   "metadata": {
    "collapsed": true
   },
   "outputs": [],
   "source": [
    "undo_stack.append(MoveFileCommand('bar.txt', 'baz.txt'))\n"
   ]
  },
  {
   "cell_type": "code",
   "execution_count": 11,
   "metadata": {
    "collapsed": true
   },
   "outputs": [],
   "source": [
    "# foo.txt is now renamed to baz.txt\n",
    "undo_stack.pop().undo() # Now it's bar.txt\n"
   ]
  },
  {
   "cell_type": "code",
   "execution_count": 12,
   "metadata": {
    "collapsed": true
   },
   "outputs": [],
   "source": [
    "undo_stack.pop().undo() # and back to foo.txt   undo_stack = []"
   ]
  },
  {
   "cell_type": "code",
   "execution_count": null,
   "metadata": {
    "collapsed": true
   },
   "outputs": [],
   "source": []
  },
  {
   "cell_type": "code",
   "execution_count": 3,
   "metadata": {
    "collapsed": true
   },
   "outputs": [],
   "source": [
    "class A:\n",
    "    def __call__(self):\n",
    "        print(\"I am instance of {}\".format(self.__class__.__name__))"
   ]
  },
  {
   "cell_type": "code",
   "execution_count": 4,
   "metadata": {
    "collapsed": false
   },
   "outputs": [
    {
     "name": "stdout",
     "output_type": "stream",
     "text": [
      "I am instance of A\n"
     ]
    }
   ],
   "source": [
    "a = A()\n",
    "a()"
   ]
  },
  {
   "cell_type": "code",
   "execution_count": null,
   "metadata": {
    "collapsed": true
   },
   "outputs": [],
   "source": []
  }
 ],
 "metadata": {
  "kernelspec": {
   "display_name": "Python 3",
   "language": "python",
   "name": "python3"
  },
  "language_info": {
   "codemirror_mode": {
    "name": "ipython",
    "version": 3
   },
   "file_extension": ".py",
   "mimetype": "text/x-python",
   "name": "python",
   "nbconvert_exporter": "python",
   "pygments_lexer": "ipython3",
   "version": "3.5.2"
  }
 },
 "nbformat": 4,
 "nbformat_minor": 2
}
