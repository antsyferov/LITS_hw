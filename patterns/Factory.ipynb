{
 "cells": [
  {
   "cell_type": "code",
   "execution_count": 16,
   "metadata": {
    "collapsed": false
   },
   "outputs": [
    {
     "name": "stdout",
     "output_type": "stream",
     "text": [
      "Hello Mr.John\n",
      "Hello Miss.Jane\n"
     ]
    }
   ],
   "source": [
    "class Person:\n",
    "    def __init__(self, name):\n",
    "        self.name = name\n",
    "        self.gender = None\n",
    "        \n",
    "    def getName(self):\n",
    "        return self.name\n",
    "    def getGender(self):\n",
    "        return self.gender\n",
    "\n",
    "    def __repr__(self):\n",
    "        return '{}(\"{}\")'.format(self.__class__.__name__, self.name)\n",
    "    \n",
    "class Male(Person):\n",
    "    def __init__(self, name):\n",
    "        super().__init__(name)\n",
    "        print(\"Hello Mr.\" + name)\n",
    "        \n",
    "class Female(Person):\n",
    "    def __init__(self, name):\n",
    "        super().__init__(name)\n",
    "        print(\"Hello Miss.\" + name)\n",
    "        \n",
    "class Factory:\n",
    "    def getPerson(self, name, gender):\n",
    "        if gender == 'M':\n",
    "            return Male(name)\n",
    "        if gender == 'F':\n",
    "            return Female(name)\n",
    "\n",
    "p1 = Factory().getPerson('John', 'M')\n",
    "p2 = Factory().getPerson('Jane', 'F')"
   ]
  },
  {
   "cell_type": "code",
   "execution_count": 17,
   "metadata": {
    "collapsed": false
   },
   "outputs": [
    {
     "data": {
      "text/plain": [
       "Male(\"John\")"
      ]
     },
     "execution_count": 17,
     "metadata": {},
     "output_type": "execute_result"
    }
   ],
   "source": [
    "p1"
   ]
  },
  {
   "cell_type": "code",
   "execution_count": 18,
   "metadata": {
    "collapsed": false
   },
   "outputs": [
    {
     "data": {
      "text/plain": [
       "Female(\"Jane\")"
      ]
     },
     "execution_count": 18,
     "metadata": {},
     "output_type": "execute_result"
    }
   ],
   "source": [
    "p2"
   ]
  },
  {
   "cell_type": "code",
   "execution_count": 19,
   "metadata": {
    "collapsed": false
   },
   "outputs": [
    {
     "name": "stdout",
     "output_type": "stream",
     "text": [
      "Hello Mr.John\n"
     ]
    }
   ],
   "source": [
    "p3 = eval(repr(p1))"
   ]
  },
  {
   "cell_type": "code",
   "execution_count": 21,
   "metadata": {
    "collapsed": false
   },
   "outputs": [
    {
     "data": {
      "text/plain": [
       "True"
      ]
     },
     "execution_count": 21,
     "metadata": {},
     "output_type": "execute_result"
    }
   ],
   "source": [
    "isinstance(p3, Male)"
   ]
  },
  {
   "cell_type": "code",
   "execution_count": 8,
   "metadata": {
    "collapsed": false
   },
   "outputs": [
    {
     "name": "stdout",
     "output_type": "stream",
     "text": [
      "Hello Ms.Money\n",
      "Hello Mr.Powers\n"
     ]
    }
   ],
   "source": [
    "class Male(object):\n",
    "    def __init__(self, name):\n",
    "        print(\"Hello Mr.\" + name)\n",
    "\n",
    "class Female(object):\n",
    "    def __init__(self, name):\n",
    "        print(\"Hello Ms.\" + name)\n",
    "\n",
    "factory = dict(F=Female, M=Male)      \n",
    "\n",
    "person1 = factory[\"F\"](\"Money\")\n",
    "person2 = factory[\"M\"](\"Powers\")\n",
    "\n"
   ]
  },
  {
   "cell_type": "code",
   "execution_count": 9,
   "metadata": {
    "collapsed": false
   },
   "outputs": [
    {
     "data": {
      "text/plain": [
       "<__main__.Female at 0x7f3192799a20>"
      ]
     },
     "execution_count": 9,
     "metadata": {},
     "output_type": "execute_result"
    }
   ],
   "source": [
    "person1"
   ]
  },
  {
   "cell_type": "code",
   "execution_count": 10,
   "metadata": {
    "collapsed": false
   },
   "outputs": [
    {
     "data": {
      "text/plain": [
       "<__main__.Male at 0x7f3192799b70>"
      ]
     },
     "execution_count": 10,
     "metadata": {},
     "output_type": "execute_result"
    }
   ],
   "source": [
    "person2"
   ]
  },
  {
   "cell_type": "code",
   "execution_count": null,
   "metadata": {
    "collapsed": true
   },
   "outputs": [],
   "source": []
  }
 ],
 "metadata": {
  "kernelspec": {
   "display_name": "Python 3",
   "language": "python",
   "name": "python3"
  },
  "language_info": {
   "codemirror_mode": {
    "name": "ipython",
    "version": 3
   },
   "file_extension": ".py",
   "mimetype": "text/x-python",
   "name": "python",
   "nbconvert_exporter": "python",
   "pygments_lexer": "ipython3",
   "version": "3.5.2"
  }
 },
 "nbformat": 4,
 "nbformat_minor": 2
}
